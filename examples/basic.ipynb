{
 "cells": [
  {
   "cell_type": "code",
   "execution_count": 1,
   "metadata": {},
   "outputs": [],
   "source": [
    "from pathlib import Path\n",
    "import json\n",
    "import requests\n",
    "from wikitalk_parser import WikiParserThreads\n",
    "\n",
    "HERE = Path('.')"
   ]
  },
  {
   "cell_type": "markdown",
   "metadata": {},
   "source": [
    "## Monty Python [talk page](https://en.wikipedia.org/wiki/Talk:Monty_Python) \n",
    "\n",
    "Download Cirrus Soc with Wiki markup of the talk page."
   ]
  },
  {
   "cell_type": "code",
   "execution_count": 2,
   "metadata": {},
   "outputs": [],
   "source": [
    "resp = requests.get('https://en.wikipedia.org/w/api.php', params=dict(\n",
    "    action='query',\n",
    "    format='json',\n",
    "    prop='cirrusdoc',\n",
    "    titles='Talk:Monty_Python'\n",
    "))\n",
    "data = resp.json()\n",
    "source = data['query']['pages']['18949']['cirrusdoc'][0]['source']['source_text']"
   ]
  },
  {
   "cell_type": "markdown",
   "metadata": {},
   "source": [
    "Using the parser is very easy. First an instance needs to be initialized on\n",
    "a string with Wiki markup of a page. And then `.parse()` method can be called\n",
    "which returns a generator of subsequent posts. Hierarchy of threads and\n",
    "posts within threads is retained by a set of additional index fields.\n",
    "\n",
    "Each post is a simple `dict` object with the following fields:\n",
    "\n",
    "1. `topic`: thread title/topic\n",
    "2. `thread_idx`: thread index according to the actual order on page\n",
    "    and counting from `1`.\n",
    "3. `post_idx`: index of a post within a thread according to the order of appearance.\n",
    "4. `parent_idx`: index of the parent post.\n",
    "5. `user_name`: user name of the author.\n",
    "6. `timestamp`: post creation timestamp as `datetime` object.\n",
    "7. `depth`: depth within the discussion tree.\n",
    "8. `content`: raw content of the post as extrected from Wiki markup.\n",
    "9. `content_sanitized`: content cleaned from most of Wiki and HTML markup.\n",
    "\n",
    "Note that thanks to the fact that the data is returned as a simple flat\n",
    "list of homogeneous `dict` objects output of the parser can be easily fit\n",
    "into different convenient data structures such as \n",
    "[Pandas](https://pandas.pydata.org/) data frames."
   ]
  },
  {
   "cell_type": "code",
   "execution_count": 3,
   "metadata": {},
   "outputs": [
    {
     "data": {
      "text/plain": "[{'topic': '\"First writer to play with the conventions of television\"',\n  'thread_idx': 1,\n  'post_idx': '0',\n  'parent_idx': None,\n  'user_name': 'Justintime55',\n  'timestamp': datetime.datetime(2019, 8, 21, 17, 3),\n  'depth': 0,\n  'content': '<s>You know, I get a bit tired of Brits who think their shit doesn\\'t stink :-) ...</s>\\n\\n[[Ernie Kovacs]] started his television career in 1950, and by his death in 1962 was considered a genius of visual comedy (e.g. \\'\\'[[Silent Show]]\\'\\', 1957). Compare this with [[Spike Milligan]], who \"first attempt[ed] to translate Goons humour to TV\" in 1956, and didn\\'t start the \\'\\'[[Q... (TV series)]]\\'\\' (which Palin says he and Jones adored) \\'\\'until 1969\\'\\', therefore could not possibly have been the \"first to play with the conventions of television\". [[User:JustinTime55|JustinTime55]] ([[User talk:JustinTime55|talk]]) 17:03, 21 August 2019 (UTC)',\n  'content_sanitized': 'You know, I get a bit tired of Brits who think their shit doesn\\'t stink :-) ...  Ernie Kovacs started his television career in 1950, and by his death in 1962 was considered a genius of visual comedy (e.g. \\'Silent Show\\', 1957). Compare this with Spike Milligan, who \"first attempt[ed] to translate Goons humour to TV\" in 1956, and didn\\'t start the \\'Q... (TV series)\\' (which Palin says he and Jones adored) \\'until 1969\\', therefore could not possibly have been the \"first to play with the conventions of television\".'},\n {'topic': '\"First writer to play with the conventions of television\"',\n  'thread_idx': 1,\n  'post_idx': '0.1',\n  'parent_idx': '0',\n  'user_name': 'Britmax',\n  'timestamp': datetime.datetime(2019, 8, 21, 17, 6),\n  'depth': 1,\n  'content': ':Please keep your conversation civil. That first line achieves nothing. [[User:Britmax|Britmax]] ([[User talk:Britmax|talk]]) 17:06, 21 August 2019 (UTC)',\n  'content_sanitized': 'Please keep your conversation civil. That first line achieves nothing.'},\n {'topic': '\"First writer to play with the conventions of television\"',\n  'thread_idx': 1,\n  'post_idx': '0.2',\n  'parent_idx': '0',\n  'user_name': 'Justintime55',\n  'timestamp': datetime.datetime(2019, 8, 21, 17, 24),\n  'depth': 1,\n  'content': '::Thank you. I also get tired of people who don\\'t know what the \":-)\" emoticon means, or think Wikipedians must have no sense of humor. Monty Python is what, a ... comedy ... group? You haven\\'t \\'\\'seen\\'\\' uncivil from me (and you won\\'t here). [[User:JustinTime55|JustinTime55]] ([[User talk:JustinTime55|talk]]) 17:24, 21 August 2019 (UTC)',\n  'content_sanitized': 'Thank you. I also get tired of people who don\\'t know what the \":-)\" emoticon means, or think Wikipedians must have no sense of humor. Monty Python is what, a ... comedy ... group? You haven\\'t \\'seen\\' uncivil from me (and you won\\'t here).'},\n {'topic': '\"First writer to play with the conventions of television\"',\n  'thread_idx': 1,\n  'post_idx': '0.3',\n  'parent_idx': '0',\n  'user_name': 'Justintime55',\n  'timestamp': datetime.datetime(2019, 8, 21, 18, 25),\n  'depth': 1,\n  'content': '{{Ping|Quisqualis}} I \\'\\'did not\\'\\' \"alter\" (i.e. change the words of) the quotation; I simply removed a part that is objectively seen to be untrue. Milligan \\'\\'was not\\'\\' the first writer to play with the conventions of television, since Kovacs \"played with television\" from 1950 through 1962, and Milligan started television in 1956, and the specific show Palin refers to dates from 1969. That is not \"one\\'s belief\"; it is an objective fact.\\n\\nYou are misquoting the meaning of the quotation guideline; [[MOS:PMC]] says \"the wording of the quoted text should be faithfully reproduced\" without changing the wording. It also says \"Do not omit text where doing so would remove important context or alter the meaning of the text.\"\\n\\nYou should also be aware our RS content guideine defines reiable sources \\'\\'reatively\\'\\' and \\'\\'contextually\\'\\'. Palin is evidently \\'\\'not\\'\\' a reliable source for determining who was \"the first writer to play with the conventions of television\". Therefore, that verbatim quote \\'\\'cannot\\'\\' be used to validate the gist of what is being said, the fact that Pain and Jones looked to Milligan as a model of innovation in television. It \\'\\'cannot\\'\\' be said that Milligan was \"the first\", because, though he may have been the first \\'\\'in Britain\\'\\',  he was not the first in the word, period. Therefore, it should be paraphrased, not quoted verbatim. [[User:JustinTime55|JustinTime55]] ([[User talk:JustinTime55|talk]]) 18:25, 21 August 2019 (UTC)',\n  'content_sanitized': 'I \\'did not\\' \"alter\" (i.e. change the words of) the quotation; I simply removed a part that is objectively seen to be untrue. Milligan \\'was not\\' the first writer to play with the conventions of television, since Kovacs \"played with television\" from 1950 through 1962, and Milligan started television in 1956, and the specific show Palin refers to dates from 1969. That is not \"one\\'s belief\"; it is an objective fact.  You are misquoting the meaning of the quotation guideline; PMC says \"the wording of the quoted text should be faithfully reproduced\" without changing the wording. It also says \"Do not omit text where doing so would remove important context or alter the meaning of the text.\"  You should also be aware our RS content guideine defines reiable sources \\'reatively\\' and \\'contextually\\'. Palin is evidently \\'not\\' a reliable source for determining who was \"the first writer to play with the conventions of television\". Therefore, that verbatim quote \\'cannot\\' be used to validate the gist of what is being said, the fact that Pain and Jones looked to Milligan as a model of innovation in television. It \\'cannot\\' be said that Milligan was \"the first\", because, though he may have been the first \\'in Britain\\', he was not the first in the word, period. Therefore, it should be paraphrased, not quoted verbatim.'},\n {'topic': 'NTSC Conversion',\n  'thread_idx': 2,\n  'post_idx': '0',\n  'parent_idx': None,\n  'user_name': 'Timothyhorrigan',\n  'timestamp': datetime.datetime(2020, 4, 1, 19, 56),\n  'depth': 0,\n  'content': \"This article currently contains an uncited anecdote about a TV producer named Greg Garrison whose efforts led to the original British videos being converted to [[NTSC]] format (presumably from the British standard [[PAL]], though possibly from the European standard [[SECAM]].)  This story may or may be true, but in the early 1970s it was actually not unusual for color TV programming to be converted to or from NTSC. Mr. Garrison's efforts were probably not quite as heroic as currently implied. [[User:TimothyHorrigan|Timothy Horrigan]] ([[User talk:TimothyHorrigan|talk]]) 19:56, 1 April 2020 (UTC)\",\n  'content_sanitized': \"This article currently contains an uncited anecdote about a TV producer named Greg Garrison whose efforts led to the original British videos being converted to NTSC format (presumably from the British standard PAL, though possibly from the European standard SECAM.) This story may or may be true, but in the early 1970s it was actually not unusual for color TV programming to be converted to or from NTSC. Mr. Garrison's efforts were probably not quite as heroic as currently implied.\"},\n {'topic': 'NTSC Conversion',\n  'thread_idx': 2,\n  'post_idx': '0.1',\n  'parent_idx': '0',\n  'user_name': 'Timothyhorrigan',\n  'timestamp': datetime.datetime(2020, 4, 1, 20, 30),\n  'depth': 1,\n  'content': ': Python had in any case already been appearing on Canadian TV, which used the exact same standards as US TV. [[User:TimothyHorrigan|Timothy Horrigan]] ([[User talk:TimothyHorrigan|talk]]) 20:30, 1 April 2020 (UTC)',\n  'content_sanitized': 'Python had in any case already been appearing on Canadian TV, which used the exact same standards as US TV.'},\n {'topic': 'Merge this with the \"Monty Python\\'s Flying Circus\" article.',\n  'thread_idx': 3,\n  'post_idx': '0',\n  'parent_idx': None,\n  'user_name': 'Therealzwaa',\n  'timestamp': datetime.datetime(2020, 9, 14, 11, 35),\n  'depth': 0,\n  'content': 'There\\'s already an article \"Monty Python\\'s Flying Circus\". I suggest this article be amalgamated with it:  https://en.m.wikipedia.org/wiki/Monty_Python%27s_Flying_Circus [[User talk: Therealzwaa | zwaa]] 11:35, 14 September 2020 (UTC)',\n  'content_sanitized': 'There\\'s already an article \"Monty Python\\'s Flying Circus\". I suggest this article be amalgamated with it: https://en.m.wikipedia.org/wiki/Monty_Python%27s_Flying_Circus'},\n {'topic': 'Merge this with the \"Monty Python\\'s Flying Circus\" article.',\n  'thread_idx': 3,\n  'post_idx': '0.1',\n  'parent_idx': '0',\n  'user_name': 'Robynthehode',\n  'timestamp': datetime.datetime(2020, 9, 14, 12, 9),\n  'depth': 1,\n  'content': \"*Oppose. The group 'Monty Python' (the comedy group) and 'Monty Python's Flying Circus' (the TV series) are distinct entities. Merging them would confuse readers, create a very long article and fail to distinguish adequately the group from one aspect (albeit the most well known) of their work. [[User:Robynthehode|Robynthehode]] ([[User talk:Robynthehode|talk]]) 12:09, 14 September 2020 (UTC)\",\n  'content_sanitized': \"Oppose. The group 'Monty Python' (the comedy group) and 'Monty Python's Flying Circus' (the TV series) are distinct entities. Merging them would confuse readers, create a very long article and fail to distinguish adequately the group from one aspect (albeit the most well known) of their work.\"},\n {'topic': 'Tagging members deceased',\n  'thread_idx': 4,\n  'post_idx': '0',\n  'parent_idx': None,\n  'user_name': 'Justintime55',\n  'timestamp': datetime.datetime(2020, 11, 10, 15, 28),\n  'depth': 0,\n  'content': '{{yo|DaveTheBrave|RoBri}} removed the word \"deceased\" by Graham Chapman and Terry Jones, leaving a note alleging \"per Wikipedia\\'s guidelines\". What \"guideline\" are you referring to? There is nothing wrong with including this in the infobox. [[User:JustinTime55|JustinTime55]] ([[User talk:JustinTime55|talk]]) 15:28, 10 November 2020 (UTC)',\n  'content_sanitized': 'removed the word \"deceased\" by Graham Chapman and Terry Jones, leaving a note alleging \"per Wikipedia\\'s guidelines\". What \"guideline\" are you referring to? There is nothing wrong with including this in the infobox.'},\n {'topic': 'Tagging members deceased',\n  'thread_idx': 4,\n  'post_idx': '0.1',\n  'parent_idx': '0',\n  'user_name': 'Robri',\n  'timestamp': datetime.datetime(2020, 11, 11, 12, 47),\n  'depth': 1,\n  'content': \":Hello. I had the memory was that this guideline does actually exist, but obviously it doesn't. My bad, thank you. --[[User:RoBri|Roger]] ([[User talk:RoBri|talk]]) 12:47, 11 November 2020 (UTC)\",\n  'content_sanitized': \"Hello. I had the memory was that this guideline does actually exist, but obviously it doesn't. My bad, thank you. --\"},\n {'topic': 'Book Section Needs Some House Cleaning!',\n  'thread_idx': 5,\n  'post_idx': '0',\n  'parent_idx': None,\n  'user_name': '75.106.219.197',\n  'timestamp': datetime.datetime(2021, 4, 3, 0, 30),\n  'depth': 0,\n  'content': 'Currently it\\'s a catch all. It includes the books credited to \"Monty Python\", as well as books not written by Monty Python but ABOUT Monty Python ( Such as \"Monty Python:The Case Against\" ), and some of the Python\\'s autobiographies!\\n\\nIt should just include books written by the group ... \"Big Red\",\"Bok\"/\"Papperbok\" , \"Grail\", \"Brian\", \"Meaning of Life\", \"Just The Words\", \"Badly Illustrated Songbook\",\"The Pythons Autobiography by The Pythons\" ... etc.\\n\\nIf one feels the need to include books about Monty Python, by other authors, you\\'re going to need a lot of space. ( It would be as futile as trying to note all the books on The Beatles, in their Wikipedia entry. ). Perhaps a separate Wikipedia entry for those?\\n\\nBiographies / Autobiographies , etc. , should appear on each of the individual\\'s entries.\\n( Including Palin\\'s diaries. It\\'s a Michael Palin book ABOUT his time with Monty Python. )\\n\\nJust some thoughts. [[Special:Contributions/75.106.219.197|75.106.219.197]] ([[User talk:75.106.219.197|talk]]) 00:30, 3 April 2021 (UTC)',\n  'content_sanitized': 'Currently it\\'s a catch all. It includes the books credited to \"Monty Python\", as well as books not written by Monty Python but ABOUT Monty Python ( Such as \"Monty Python:The Case Against\" ), and some of the Python\\'s autobiographies!  It should just include books written by the group ... \"Big Red\",\"Bok\"/\"Papperbok\" , \"Grail\", \"Brian\", \"Meaning of Life\", \"Just The Words\", \"Badly Illustrated Songbook\",\"The Pythons Autobiography by The Pythons\" ... etc.  If one feels the need to include books about Monty Python, by other authors, you\\'re going to need a lot of space. ( It would be as futile as trying to note all the books on The Beatles, in their Wikipedia entry. ). Perhaps a separate Wikipedia entry for those?  Biographies / Autobiographies , etc. , should appear on each of the individual\\'s entries.  ( Including Palin\\'s diaries. It\\'s a Michael Palin book ABOUT his time with Monty Python. )  Just some thoughts. 75.106.219.197'}]"
     },
     "execution_count": 3,
     "metadata": {},
     "output_type": "execute_result"
    }
   ],
   "source": [
    "threads = WikiParserThreads(source)\n",
    "list(threads.parse())"
   ]
  }
 ],
 "metadata": {
  "interpreter": {
   "hash": "3f647254f998f25a4b8cafc99cfd8bf94569118d1d1531a71f66dcc82b76db36"
  },
  "kernelspec": {
   "display_name": "Python 3.9.4 64-bit ('wikitalk': conda)",
   "name": "python3"
  },
  "language_info": {
   "codemirror_mode": {
    "name": "ipython",
    "version": 3
   },
   "file_extension": ".py",
   "mimetype": "text/x-python",
   "name": "python",
   "nbconvert_exporter": "python",
   "pygments_lexer": "ipython3",
   "version": "3.9.4"
  },
  "metadata": {
   "interpreter": {
    "hash": "3f647254f998f25a4b8cafc99cfd8bf94569118d1d1531a71f66dcc82b76db36"
   }
  },
  "orig_nbformat": 2
 },
 "nbformat": 4,
 "nbformat_minor": 2
}